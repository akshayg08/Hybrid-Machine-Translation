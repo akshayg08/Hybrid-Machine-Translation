{
 "cells": [
  {
   "cell_type": "code",
   "execution_count": 1,
   "metadata": {},
   "outputs": [],
   "source": [
    "import time\n",
    "import torch \n",
    "import pickle\n",
    "import matplotlib.pyplot as plt \n",
    "import matplotlib.ticker as ticker\n",
    "from torch import nn \n",
    "from tqdm import tqdm\n",
    "from torchtext.vocab import Vectors\n",
    "from torchtext.datasets import TranslationDataset\n",
    "from torchtext.data import Field, BucketIterator, Iterator"
   ]
  },
  {
   "cell_type": "code",
   "execution_count": 16,
   "metadata": {},
   "outputs": [
    {
     "name": "stdout",
     "output_type": "stream",
     "text": [
      "cuda\n"
     ]
    }
   ],
   "source": [
    "device = torch.device('cuda' if torch.cuda.is_available() else 'cpu')\n",
    "print(device)\n",
    "\n",
    "MAX_LENGTH = 220\n",
    "BATCH_SIZE = 128\n",
    "CLIP = 1\n",
    "EMB_SIZE = 300\n",
    "NUM_LAYERS = 1"
   ]
  },
  {
   "cell_type": "code",
   "execution_count": 17,
   "metadata": {},
   "outputs": [],
   "source": [
    "def create_mask(src, idx):\n",
    "    mask = (src != idx).unsqueeze(2)\n",
    "    return mask\n",
    "\n",
    "class EncoderRNN(nn.Module):    \n",
    "    def __init__(self, input_size, hidden_size, TEXT):\n",
    "        super(EncoderRNN,self).__init__()\n",
    "        self.hidden_size = hidden_size\n",
    "        self.embedding = nn.Embedding(input_size, EMB_SIZE).to(device)\n",
    "        self.gru = nn.GRU(EMB_SIZE, hidden_size, bidirectional = True, batch_first = True).to(device)\n",
    "        self.fc = nn.Linear(2*hidden_size, hidden_size).to(device)\n",
    "\n",
    "    def forward(self, x, src_len):\n",
    "        embedded = self.embedding(x)\n",
    "        #in order to avoid <pad>\n",
    "        packed_embedded = nn.utils.rnn.pack_padded_sequence(embedded, lengths = src_len, batch_first = True)\n",
    "        packed_output, hidden = self.gru(packed_embedded)\n",
    "        output, _ = nn.utils.rnn.pad_packed_sequence(packed_output, batch_first = True)\n",
    "        output = self.fc(output) \n",
    "        hidden = torch.tanh(self.fc(torch.cat((hidden[-2,:,:], hidden[-1,:,:]), dim = 1)))\n",
    "\n",
    "        return output, hidden\n",
    "\n",
    "class DecoderRNN(nn.Module):\n",
    "    def __init__(self, hidden_size, output_size, TEXT):\n",
    "        super(DecoderRNN, self).__init__()\n",
    "        self.hidden_size = hidden_size\n",
    "        self.embedding = nn.Embedding(output_size, EMB_SIZE).to(device)\n",
    "        self.gru = nn.GRU(hidden_size + EMB_SIZE, hidden_size, batch_first = True).to(device)\n",
    "        self.attn_scores1 = nn.Linear(hidden_size + MAX_LENGTH, hidden_size, bias = True).to(device)\n",
    "        self.attn_scores2 = nn.Linear(hidden_size, 1, bias = False).to(device)\n",
    "        self.fc = nn.Linear(hidden_size, output_size).to(device)\n",
    "        self.softmax = nn.Softmax(dim = 1).to(device)\n",
    "        self.logsoftmax = nn.LogSoftmax(dim = 1).to(device)\n",
    "\n",
    "    def forward(self, x, hidden, encoder_hidden_states, coverage, mask):\n",
    "        embedded = self.embedding(x)\n",
    "        coverage_vec = torch.cat((hidden, coverage), dim = 1)\n",
    "\n",
    "        scores = self.attn_scores2(torch.tanh(torch.add(self.attn_scores1(coverage_vec).unsqueeze(1), encoder_hidden_states)))\n",
    "        attn_weights = scores.masked_fill(mask == 0, -1e10)\n",
    "        attn_weights = self.softmax(attn_weights)\n",
    "\n",
    "        coverage[:, :attn_weights.shape[1]] += attn_weights.squeeze(2)\n",
    "\n",
    "        context_vec = torch.matmul(attn_weights.permute(0, 2, 1), encoder_hidden_states)\n",
    "        attn_hidden = torch.cat((torch.relu(embedded.unsqueeze(dim = 1)), context_vec), dim = 2)\n",
    "\n",
    "        output, hidden = self.gru(attn_hidden, hidden.unsqueeze(dim = 0))\n",
    "        output = self.fc(output)\n",
    "        output = self.logsoftmax(output.squeeze(dim = 1))\n",
    "        return output, hidden.squeeze(0), attn_weights, coverage"
   ]
  },
  {
   "cell_type": "code",
   "execution_count": 18,
   "metadata": {},
   "outputs": [],
   "source": [
    "class Model(nn.Module):\n",
    "    def __init__(self, encoder, decoder):\n",
    "        super(Model, self).__init__()\n",
    "        self.encoder = encoder\n",
    "        self.decoder = decoder\n",
    "\n",
    "    def forward(self, src, src_len, trg):\n",
    "        outputs, hidden = self.encoder(src, src_len)\n",
    "        mask = create_mask(src, SRC_PAD_IDX)\n",
    "        coverage = torch.zeros(src.shape[0], MAX_LENGTH).to(device)\n",
    "        decoder_input = trg[:, 0]\n",
    "        decoder_outputs = torch.zeros(trg.shape[0], output_size, trg.shape[1]).to(device)\n",
    "\n",
    "        for k in range(1, trg.shape[1]):\n",
    "            output, hidden, _, coverage = self.decoder(decoder_input, hidden, outputs, coverage, mask)\n",
    "            decoder_input = trg[:, k]\n",
    "            decoder_outputs[:, :, k] = output\n",
    "\n",
    "        return decoder_outputs"
   ]
  },
  {
   "cell_type": "code",
   "execution_count": 19,
   "metadata": {},
   "outputs": [],
   "source": [
    "SRC = Field(init_token = '<SOS>', eos_token = '<EOS>', lower = True, sequential = True, pad_token = \"<PAD>\", batch_first = True, include_lengths = True)\n",
    "TRG = Field(init_token = '<SOS>', eos_token = '<EOS>', lower = True, sequential = True, pad_token = \"<PAD>\", batch_first = True)"
   ]
  },
  {
   "cell_type": "code",
   "execution_count": 20,
   "metadata": {},
   "outputs": [],
   "source": [
    "train_data, valid_data = TranslationDataset.splits(path= \"./project/data/\", train = \"train\", validation = \"dev\", test = None, exts = (\".hi\", \".en\"), fields = (SRC, TRG))"
   ]
  },
  {
   "cell_type": "code",
   "execution_count": 21,
   "metadata": {},
   "outputs": [],
   "source": [
    "SRC.build_vocab(train_data, min_freq = 2)\n",
    "TRG.build_vocab(train_data, min_freq = 2)"
   ]
  },
  {
   "cell_type": "code",
   "execution_count": 22,
   "metadata": {},
   "outputs": [],
   "source": [
    "train_iter, valid_iter = BucketIterator.splits((train_data, valid_data), batch_size=BATCH_SIZE, sort_key=lambda x: len(x.src), shuffle=True, sort_within_batch = True, device = device)\n",
    "\n",
    "input_size = len(SRC.vocab)\n",
    "output_size = len(TRG.vocab)\n",
    "hidden_size = 300\n",
    "\n",
    "SRC_PAD_IDX = SRC.vocab.stoi[SRC.pad_token]\n",
    "TRG_PAD_IDX = TRG.vocab.stoi[TRG.pad_token]\n",
    "criterion = nn.NLLLoss(ignore_index = TRG_PAD_IDX)\n",
    "\n",
    "encoder = EncoderRNN(input_size, hidden_size, SRC).to(device)\n",
    "decoder = DecoderRNN(hidden_size, output_size, TRG).to(device)\n",
    "model = Model(encoder, decoder).to(device)\n",
    "optimizer = torch.optim.Adam(model.parameters())\n",
    "scheduler = torch.optim.lr_scheduler.ReduceLROnPlateau(optimizer, patience = 3)\n",
    "epochs = 100"
   ]
  },
  {
   "cell_type": "code",
   "execution_count": 23,
   "metadata": {},
   "outputs": [],
   "source": [
    "def train(iterator, model, optimizer, clip, epoch):\n",
    "    model.train()\n",
    "    epoch_loss = 0\n",
    "    loop = tqdm(iterator)\n",
    "    for _, batch in enumerate(loop):\n",
    "        src, src_len = batch.src\n",
    "        trg = batch.trg\n",
    "        optimizer.zero_grad()\n",
    "        decoder_outputs = model(src, src_len, trg)\n",
    "        loss = criterion(decoder_outputs[:, :, 1:], trg[:, 1:])\n",
    "        loss.backward()\n",
    "        torch.nn.utils.clip_grad_norm_(model.parameters(), clip)\n",
    "        optimizer.step()\n",
    "        epoch_loss += loss.item()\n",
    "\n",
    "        loop.set_description('Epoch {}/{}'.format(epoch + 1, epochs))\n",
    "        loop.set_postfix(loss=loss.item())\n",
    "        \n",
    "    return epoch_loss/len(iterator)\n"
   ]
  },
  {
   "cell_type": "code",
   "execution_count": 24,
   "metadata": {},
   "outputs": [],
   "source": [
    "def validate(iterator, model):\n",
    "    model.eval()\n",
    "    with torch.no_grad():\n",
    "        loss = 0\n",
    "        for _, batch in enumerate(iterator):\n",
    "            src, src_len = batch.src\n",
    "            trg = batch.trg\n",
    "            decoder_outputs = model(src, src_len, trg)\n",
    "            loss = criterion(decoder_outputs[:, :, 1:], trg[:, 1:])\n",
    "            loss += loss.item()\n",
    "        return loss/len(iterator)"
   ]
  },
  {
   "cell_type": "code",
   "execution_count": 25,
   "metadata": {},
   "outputs": [],
   "source": [
    "def translate(sentence, model, replace_with_src, phrase_table):\n",
    "    model.eval()\n",
    "    tokens = sentence.lower().strip().split()\n",
    "\n",
    "    tokens = [SRC.init_token] + tokens + [SRC.eos_token]\n",
    "    src_indices = [SRC.vocab.stoi[token.strip()] for token in tokens]\n",
    "\n",
    "    src_tensor = torch.LongTensor(src_indices).unsqueeze(0).to(device)\n",
    "    src_len = torch.LongTensor([len(src_indices)]).to(device)\n",
    "\n",
    "    coverage = torch.zeros(1, MAX_LENGTH).to(device)\n",
    "\n",
    "    with torch.no_grad():\n",
    "        outputs, hidden = model.encoder(src_tensor, src_len)\n",
    "\n",
    "        mask = create_mask(src_tensor, SRC_PAD_IDX)\n",
    "        trg_indices = [TRG.vocab.stoi[TRG.init_token]]\n",
    "\n",
    "        attns = torch.zeros(MAX_LENGTH, len(src_indices)).to(device)\n",
    "        replace_words = []\n",
    "        for i in range(MAX_LENGTH):\n",
    "            decoder_input = torch.LongTensor([trg_indices[-1]]).to(device)\n",
    "            output,  hidden, attn, coverage = model.decoder(decoder_input, hidden, outputs, coverage,mask)\n",
    "            attns[i, :] = attn.squeeze(0).squeeze(1)\n",
    "            pred_token = output.argmax(dim = 1).item()\n",
    "            if pred_token == TRG.vocab.stoi[TRG.unk_token]:\n",
    "                if replace_with_src:\n",
    "                    idx = attn.argmax(axis = 1).item()\n",
    "                    src_token = SRC.vocab.itos[src_indices[idx]]\n",
    "                    if src_token in phrase_table:\n",
    "                        src_token = phrase_table[src_token][0]\n",
    "                    replace_words.append((i, src_token))\n",
    "                    \n",
    "            trg_indices.append(pred_token)\n",
    "            if pred_token == TRG.vocab.stoi[TRG.eos_token]:\n",
    "                break\n",
    "\n",
    "        trg_tokens = [TRG.vocab.itos[j] for j in trg_indices]\n",
    "\n",
    "    return trg_tokens[1:], attns, replace_words"
   ]
  },
  {
   "cell_type": "code",
   "execution_count": 26,
   "metadata": {},
   "outputs": [],
   "source": [
    "def translate_sentences(epoch, model, replace_with_src, phrase_table):\n",
    "    f1 = open(\"/home/akshay.goindani/NLA/project/models/unk_result\"+str(epoch)+\".txt\", \"w\")\n",
    "    f2 = open(\"/home/akshay.goindani/NLA/project/models/phrase_table_result\"+str(epoch)+\".txt\", \"w\")\n",
    "    with open(\"/home/akshay.goindani/NLA/project/data/test.hi\") as f:\n",
    "        for line in f:\n",
    "            translation, _, replace_words = translate(line.strip(), model, replace_with_src, phrase_table)\n",
    "            f1.write(\" \".join(translation[:-1]).strip() + \"\\n\")\n",
    "            for i in replace_words:\n",
    "                translation[i[0]] = i[1].strip()\n",
    "            f2.write(\" \".join(translation[:-1]).strip() + \"\\n\")\n",
    "    f1.close()\n",
    "    f2.close()\n",
    "    \n",
    "phrase_table = create_phrase_table()"
   ]
  },
  {
   "cell_type": "code",
   "execution_count": 27,
   "metadata": {
    "scrolled": false
   },
   "outputs": [
    {
     "name": "stderr",
     "output_type": "stream",
     "text": [
      "Epoch 1/100: 100%|██████████| 363/363 [01:30<00:00,  3.54it/s, loss=4.43]\n"
     ]
    },
    {
     "name": "stdout",
     "output_type": "stream",
     "text": [
      "Train Loss: 5.587334969155388\n",
      "Validation Loss: 0.9049055576324463\n"
     ]
    },
    {
     "name": "stderr",
     "output_type": "stream",
     "text": [
      "Epoch 2/100: 100%|██████████| 363/363 [01:31<00:00,  3.29it/s, loss=4.57]\n"
     ]
    },
    {
     "name": "stdout",
     "output_type": "stream",
     "text": [
      "Train Loss: 4.224245642827562\n",
      "Validation Loss: 0.8239840269088745\n"
     ]
    },
    {
     "name": "stderr",
     "output_type": "stream",
     "text": [
      "Epoch 3/100: 100%|██████████| 363/363 [01:30<00:00,  4.09it/s, loss=3.87]\n"
     ]
    },
    {
     "name": "stdout",
     "output_type": "stream",
     "text": [
      "Train Loss: 3.4956279733621054\n",
      "Validation Loss: 0.7910586595535278\n"
     ]
    },
    {
     "name": "stderr",
     "output_type": "stream",
     "text": [
      "Epoch 4/100: 100%|██████████| 363/363 [01:32<00:00,  3.45it/s, loss=3.42]\n"
     ]
    },
    {
     "name": "stdout",
     "output_type": "stream",
     "text": [
      "Train Loss: 2.9541097403229433\n",
      "Validation Loss: 0.7725210189819336\n"
     ]
    },
    {
     "name": "stderr",
     "output_type": "stream",
     "text": [
      "Epoch 5/100: 100%|██████████| 363/363 [01:35<00:00,  3.30it/s, loss=1.98]\n"
     ]
    },
    {
     "name": "stdout",
     "output_type": "stream",
     "text": [
      "Train Loss: 2.5181669995147664\n",
      "Validation Loss: 0.7673913240432739\n"
     ]
    },
    {
     "name": "stderr",
     "output_type": "stream",
     "text": [
      "Epoch 6/100: 100%|██████████| 363/363 [01:33<00:00,  3.05it/s, loss=2.24] \n",
      "  0%|          | 0/363 [00:00<?, ?it/s]"
     ]
    },
    {
     "name": "stdout",
     "output_type": "stream",
     "text": [
      "Train Loss: 2.167250365757745\n",
      "Validation Loss: 0.7727333903312683\n"
     ]
    },
    {
     "name": "stderr",
     "output_type": "stream",
     "text": [
      "Epoch 7/100: 100%|██████████| 363/363 [01:35<00:00,  4.23it/s, loss=1.42] \n",
      "  0%|          | 0/363 [00:00<?, ?it/s]"
     ]
    },
    {
     "name": "stdout",
     "output_type": "stream",
     "text": [
      "Train Loss: 1.876606619719303\n",
      "Validation Loss: 0.7718324065208435\n"
     ]
    },
    {
     "name": "stderr",
     "output_type": "stream",
     "text": [
      "Epoch 8/100: 100%|██████████| 363/363 [01:35<00:00,  2.81it/s, loss=2.64] \n",
      "  0%|          | 0/363 [00:00<?, ?it/s]"
     ]
    },
    {
     "name": "stdout",
     "output_type": "stream",
     "text": [
      "Train Loss: 1.6461994051112288\n",
      "Validation Loss: 0.77394700050354\n"
     ]
    },
    {
     "name": "stderr",
     "output_type": "stream",
     "text": [
      "Epoch 9/100: 100%|██████████| 363/363 [01:32<00:00,  2.51it/s, loss=2.43] \n",
      "  0%|          | 0/363 [00:00<?, ?it/s]"
     ]
    },
    {
     "name": "stdout",
     "output_type": "stream",
     "text": [
      "Train Loss: 1.4549829670056167\n",
      "Validation Loss: 0.786953866481781\n"
     ]
    },
    {
     "name": "stderr",
     "output_type": "stream",
     "text": [
      "Epoch 10/100: 100%|██████████| 363/363 [01:32<00:00,  3.44it/s, loss=0.646]\n",
      "  0%|          | 0/363 [00:00<?, ?it/s]"
     ]
    },
    {
     "name": "stdout",
     "output_type": "stream",
     "text": [
      "Train Loss: 1.1560942969046348\n",
      "Validation Loss: 0.7835620641708374\n"
     ]
    },
    {
     "name": "stderr",
     "output_type": "stream",
     "text": [
      "Epoch 11/100: 100%|██████████| 363/363 [01:35<00:00,  3.24it/s, loss=0.756]\n",
      "  0%|          | 0/363 [00:00<?, ?it/s]"
     ]
    },
    {
     "name": "stdout",
     "output_type": "stream",
     "text": [
      "Train Loss: 1.0665269067957381\n",
      "Validation Loss: 0.7863731384277344\n"
     ]
    },
    {
     "name": "stderr",
     "output_type": "stream",
     "text": [
      "Epoch 12/100: 100%|██████████| 363/363 [01:35<00:00,  3.67it/s, loss=0.695]\n",
      "  0%|          | 0/363 [00:00<?, ?it/s]"
     ]
    },
    {
     "name": "stdout",
     "output_type": "stream",
     "text": [
      "Train Loss: 1.0171985656187226\n",
      "Validation Loss: 0.7905864715576172\n"
     ]
    },
    {
     "name": "stderr",
     "output_type": "stream",
     "text": [
      "Epoch 13/100: 100%|██████████| 363/363 [01:32<00:00,  4.93it/s, loss=0.956]\n"
     ]
    },
    {
     "name": "stdout",
     "output_type": "stream",
     "text": [
      "Train Loss: 0.9783977206909296\n",
      "Validation Loss: 0.7941483855247498\n",
      "Epoch 13: early stopping\n"
     ]
    }
   ],
   "source": [
    "best = 1e18\n",
    "for epoch in range(epochs):\n",
    "    train_loss = train(train_iter, model, optimizer, CLIP, epoch)\n",
    "    valid_loss = validate(valid_iter, model)\n",
    "    print(\"Train Loss:\", train_loss)\n",
    "    print(\"Validation Loss:\", valid_loss.item())\n",
    "    if valid_loss < best:\n",
    "        best = valid_loss\n",
    "        checkpoint = {\n",
    "            \"epoch\": epoch + 1,\n",
    "            \"model\": model.state_dict(),\n",
    "            \"optimizer\": optimizer.state_dict(),\n",
    "            \"scheduler\": scheduler.state_dict(),\n",
    "            \"train_loss\":train_loss,\n",
    "            \"valid_loss\": valid_loss\n",
    "        }\n",
    "        translate_sentences(epoch + 1, model, True, phrase_table)\n",
    "        torch.save(checkpoint, \"/home/akshay.goindani/NLA/project/models/model\"+str(epoch+1)+\".tar\")\n",
    "        early_stop = 0\n",
    "    else:\n",
    "        early_stop += 1\n",
    "    scheduler.step(valid_loss)\n",
    "    if early_stop > 7:\n",
    "        print('Epoch %d: early stopping' % (epoch + 1))\n",
    "        break\n"
   ]
  },
  {
   "cell_type": "code",
   "execution_count": 13,
   "metadata": {},
   "outputs": [],
   "source": [
    "def create_phrase_table():\n",
    "    dic = {}\n",
    "    with open(\"./project/data/phrase-table.hi-en.onmt\") as f:\n",
    "        for line in f:\n",
    "            temp = line.strip().split(\"|||\")\n",
    "            src = temp[0].strip()\n",
    "            trg = temp[1].strip()\n",
    "            if src not in dic:\n",
    "                dic[src] = [trg]\n",
    "            else:\n",
    "                dic[src].append(trg)\n",
    "                \n",
    "    return dic\n"
   ]
  },
  {
   "cell_type": "code",
   "execution_count": null,
   "metadata": {},
   "outputs": [],
   "source": []
  },
  {
   "cell_type": "code",
   "execution_count": null,
   "metadata": {},
   "outputs": [],
   "source": []
  },
  {
   "cell_type": "code",
   "execution_count": null,
   "metadata": {},
   "outputs": [],
   "source": []
  }
 ],
 "metadata": {
  "kernelspec": {
   "display_name": "Python 3",
   "language": "python",
   "name": "python3"
  },
  "language_info": {
   "codemirror_mode": {
    "name": "ipython",
    "version": 3
   },
   "file_extension": ".py",
   "mimetype": "text/x-python",
   "name": "python",
   "nbconvert_exporter": "python",
   "pygments_lexer": "ipython3",
   "version": "3.6.4"
  }
 },
 "nbformat": 4,
 "nbformat_minor": 2
}
